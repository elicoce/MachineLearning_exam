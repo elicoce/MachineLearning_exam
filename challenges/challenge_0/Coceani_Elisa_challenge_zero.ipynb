{
  "cells": [
    {
      "cell_type": "markdown",
      "id": "2adzcfnbRZZY",
      "metadata": {
        "id": "2adzcfnbRZZY"
      },
      "source": [
        "# Challenge $0$\n"
      ]
    },
    {
      "cell_type": "markdown",
      "id": "eccd6e67",
      "metadata": {
        "id": "eccd6e67"
      },
      "source": [
        "##  ***Data cleaning with Pandas***\n",
        "\n",
        "Use the library `pandas` to load and clean the required dataset."
      ]
    },
    {
      "cell_type": "code",
      "execution_count": 1,
      "id": "39ae18d1",
      "metadata": {
        "id": "39ae18d1"
      },
      "outputs": [],
      "source": [
        "import numpy as np\n",
        "import matplotlib.pyplot as plt\n",
        "import pandas as pd\n",
        "import os\n",
        "from seaborn import pairplot"
      ]
    },
    {
      "cell_type": "markdown",
      "id": "6XPiwcNUPJAw",
      "metadata": {
        "id": "6XPiwcNUPJAw"
      },
      "source": [
        "Obtain the data file"
      ]
    },
    {
      "cell_type": "code",
      "execution_count": 2,
      "id": "AkGFWaHZOi-l",
      "metadata": {
        "colab": {
          "base_uri": "https://localhost:8080/"
        },
        "id": "AkGFWaHZOi-l",
        "outputId": "5e9ad7d8-5d13-4a75-ff3c-984615d4a7a0"
      },
      "outputs": [
        {
          "name": "stdout",
          "output_type": "stream",
          "text": [
            "File already exists\n",
            "File is readable\n"
          ]
        }
      ],
      "source": [
        "FFILE = './50_Startups.csv'\n",
        "if os.path.isfile(FFILE):\n",
        "    print(\"File already exists\")\n",
        "    if os.access(FFILE, os.R_OK):\n",
        "        print (\"File is readable\")\n",
        "    else:\n",
        "        print (\"File is not readable, removing it and downloading again\")\n",
        "        !rm FFILE\n",
        "        !wget \"https://raw.github.com/alexdepremia/ML_IADA_UTs/main/challenge_0/50_Startups.csv\"\n",
        "else:\n",
        "    print(\"Either the file is missing or not readable, download it\")\n",
        "    !wget \"https://raw.github.com/alexdepremia/ML_IADA_UTs/main/challenge_0/50_Startups.csv\""
      ]
    },
    {
      "cell_type": "code",
      "execution_count": 3,
      "id": "984f3c35",
      "metadata": {
        "id": "984f3c35"
      },
      "outputs": [],
      "source": [
        "# load the dataset using pandas\n",
        "data = pd.read_csv('50_Startups.csv')\n",
        "\n",
        "# Extracting the features (independent variables) and labels (dependent variable)\n",
        "# Features (X) are taken from all columns except the last two\n",
        "X = data.iloc[:,:-2].values\n",
        "\n",
        "# Labels (y) are taken from the third column (index 3, considering the 0-based index in Python)\n",
        "y = data.iloc[:,3].values\n",
        "\n",
        "df = pd.DataFrame(data)"
      ]
    },
    {
      "cell_type": "code",
      "execution_count": 4,
      "id": "q2m02UvpbJjW",
      "metadata": {
        "colab": {
          "base_uri": "https://localhost:8080/"
        },
        "id": "q2m02UvpbJjW",
        "outputId": "d94d0b86-cfc3-4cc5-a24f-6fa87a69f31d"
      },
      "outputs": [
        {
          "data": {
            "text/plain": [
              "array([[165349.2 , 136897.8 , 471784.1 ],\n",
              "       [162597.7 , 151377.59, 443898.53],\n",
              "       [153441.51, 101145.55, 407934.54],\n",
              "       [144372.41, 118671.85, 383199.62],\n",
              "       [142107.34,  91391.77, 366168.42],\n",
              "       [131876.9 ,  99814.71, 362861.36],\n",
              "       [134615.46, 147198.87, 127716.82],\n",
              "       [130298.13, 145530.06, 323876.68],\n",
              "       [120542.52, 148718.95, 311613.29],\n",
              "       [123334.88, 108679.17, 304981.62],\n",
              "       [101913.08, 110594.11, 229160.95],\n",
              "       [100671.96,  91790.61, 249744.55],\n",
              "       [ 93863.75, 127320.38, 249839.44],\n",
              "       [ 91992.39, 135495.07, 252664.93],\n",
              "       [119943.24, 156547.42, 256512.92],\n",
              "       [114523.61, 122616.84, 261776.23],\n",
              "       [ 78013.11, 121597.55, 264346.06],\n",
              "       [ 94657.16, 145077.58, 282574.31],\n",
              "       [ 91749.16, 114175.79, 294919.57],\n",
              "       [ 86419.7 , 153514.11,      0.  ],\n",
              "       [ 76253.86, 113867.3 , 298664.47],\n",
              "       [ 78389.47, 153773.43, 299737.29],\n",
              "       [ 73994.56, 122782.75, 303319.26],\n",
              "       [ 67532.53, 105751.03, 304768.73],\n",
              "       [ 77044.01,  99281.34, 140574.81],\n",
              "       [ 64664.71, 139553.16, 137962.62],\n",
              "       [ 75328.87, 144135.98, 134050.07],\n",
              "       [ 72107.6 , 127864.55, 353183.81],\n",
              "       [ 66051.52, 182645.56, 118148.2 ],\n",
              "       [ 65605.48, 153032.06, 107138.38],\n",
              "       [ 61994.48, 115641.28,  91131.24],\n",
              "       [ 61136.38, 152701.92,  88218.23],\n",
              "       [ 63408.86, 129219.61,  46085.25],\n",
              "       [ 55493.95, 103057.49, 214634.81],\n",
              "       [ 46426.07, 157693.92, 210797.67],\n",
              "       [ 46014.02,  85047.44, 205517.64],\n",
              "       [ 28663.76, 127056.21, 201126.82],\n",
              "       [ 44069.95,  51283.14, 197029.42],\n",
              "       [ 20229.59,  65947.93, 185265.1 ],\n",
              "       [ 38558.51,  82982.09, 174999.3 ],\n",
              "       [ 28754.33, 118546.05, 172795.67],\n",
              "       [ 27892.92,  84710.77, 164470.71],\n",
              "       [ 23640.93,  96189.63, 148001.11],\n",
              "       [ 15505.73, 127382.3 ,  35534.17],\n",
              "       [ 22177.74, 154806.14,  28334.72],\n",
              "       [  1000.23, 124153.04,   1903.93],\n",
              "       [  1315.46, 115816.21, 297114.46],\n",
              "       [     0.  , 135426.92,      0.  ],\n",
              "       [   542.05,  51743.15,      0.  ],\n",
              "       [     0.  , 116983.8 ,  45173.06]])"
            ]
          },
          "execution_count": 4,
          "metadata": {},
          "output_type": "execute_result"
        }
      ],
      "source": [
        "X"
      ]
    },
    {
      "cell_type": "code",
      "execution_count": 5,
      "metadata": {},
      "outputs": [
        {
          "data": {
            "text/plain": [
              "array(['New York', 'California', 'Florida', 'New York', 'Florida',\n",
              "       'New York', 'California', 'Florida', 'New York', 'California',\n",
              "       'Florida', 'California', 'Florida', 'California', 'Florida',\n",
              "       'New York', 'California', 'New York', 'Florida', 'New York',\n",
              "       'California', 'New York', 'Florida', 'Florida', 'New York',\n",
              "       'California', 'Florida', 'New York', 'Florida', 'New York',\n",
              "       'Florida', 'New York', 'California', 'Florida', 'California',\n",
              "       'New York', 'Florida', 'California', 'New York', 'California',\n",
              "       'California', 'Florida', 'California', 'New York', 'California',\n",
              "       'New York', 'Florida', 'California', 'New York', 'California'],\n",
              "      dtype=object)"
            ]
          },
          "execution_count": 5,
          "metadata": {},
          "output_type": "execute_result"
        }
      ],
      "source": [
        "y"
      ]
    },
    {
      "cell_type": "markdown",
      "id": "6c52b5bb",
      "metadata": {
        "id": "6c52b5bb"
      },
      "source": [
        "***Play with data***"
      ]
    },
    {
      "cell_type": "code",
      "execution_count": 6,
      "id": "6bc66e09",
      "metadata": {
        "colab": {
          "base_uri": "https://localhost:8080/"
        },
        "id": "6bc66e09",
        "outputId": "30145a36-8aa7-42d9-ca40-ce502748543f",
        "scrolled": true
      },
      "outputs": [
        {
          "data": {
            "text/plain": [
              "(50, 5)"
            ]
          },
          "execution_count": 6,
          "metadata": {},
          "output_type": "execute_result"
        }
      ],
      "source": [
        "df.shape"
      ]
    },
    {
      "cell_type": "code",
      "execution_count": 7,
      "id": "9f5107f7",
      "metadata": {
        "colab": {
          "base_uri": "https://localhost:8080/",
          "height": 261
        },
        "id": "9f5107f7",
        "outputId": "e6a76ce3-8916-48f5-e4d2-12e2e1befcde"
      },
      "outputs": [
        {
          "data": {
            "text/html": [
              "<div>\n",
              "<style scoped>\n",
              "    .dataframe tbody tr th:only-of-type {\n",
              "        vertical-align: middle;\n",
              "    }\n",
              "\n",
              "    .dataframe tbody tr th {\n",
              "        vertical-align: top;\n",
              "    }\n",
              "\n",
              "    .dataframe thead th {\n",
              "        text-align: right;\n",
              "    }\n",
              "</style>\n",
              "<table border=\"1\" class=\"dataframe\">\n",
              "  <thead>\n",
              "    <tr style=\"text-align: right;\">\n",
              "      <th></th>\n",
              "      <th>R&amp;D Spend</th>\n",
              "      <th>Administration</th>\n",
              "      <th>Marketing Spend</th>\n",
              "      <th>State</th>\n",
              "      <th>Profit</th>\n",
              "    </tr>\n",
              "  </thead>\n",
              "  <tbody>\n",
              "    <tr>\n",
              "      <th>0</th>\n",
              "      <td>165349.20</td>\n",
              "      <td>136897.80</td>\n",
              "      <td>471784.10</td>\n",
              "      <td>New York</td>\n",
              "      <td>192261.83</td>\n",
              "    </tr>\n",
              "    <tr>\n",
              "      <th>1</th>\n",
              "      <td>162597.70</td>\n",
              "      <td>151377.59</td>\n",
              "      <td>443898.53</td>\n",
              "      <td>California</td>\n",
              "      <td>191792.06</td>\n",
              "    </tr>\n",
              "    <tr>\n",
              "      <th>2</th>\n",
              "      <td>153441.51</td>\n",
              "      <td>101145.55</td>\n",
              "      <td>407934.54</td>\n",
              "      <td>Florida</td>\n",
              "      <td>191050.39</td>\n",
              "    </tr>\n",
              "    <tr>\n",
              "      <th>3</th>\n",
              "      <td>144372.41</td>\n",
              "      <td>118671.85</td>\n",
              "      <td>383199.62</td>\n",
              "      <td>New York</td>\n",
              "      <td>182901.99</td>\n",
              "    </tr>\n",
              "    <tr>\n",
              "      <th>4</th>\n",
              "      <td>142107.34</td>\n",
              "      <td>91391.77</td>\n",
              "      <td>366168.42</td>\n",
              "      <td>Florida</td>\n",
              "      <td>166187.94</td>\n",
              "    </tr>\n",
              "  </tbody>\n",
              "</table>\n",
              "</div>"
            ],
            "text/plain": [
              "   R&D Spend  Administration  Marketing Spend       State     Profit\n",
              "0  165349.20       136897.80        471784.10    New York  192261.83\n",
              "1  162597.70       151377.59        443898.53  California  191792.06\n",
              "2  153441.51       101145.55        407934.54     Florida  191050.39\n",
              "3  144372.41       118671.85        383199.62    New York  182901.99\n",
              "4  142107.34        91391.77        366168.42     Florida  166187.94"
            ]
          },
          "execution_count": 7,
          "metadata": {},
          "output_type": "execute_result"
        }
      ],
      "source": [
        "#exclude the column that contains a string and not a number\n",
        "numeric_columns= df.select_dtypes( include=[np.number]).columns\n",
        "# inject the mean of the column when value is 0\n",
        "df[numeric_columns]= df[numeric_columns].replace( to_replace=0.00, value= df[numeric_columns].mean(axis=0))  \n",
        "df.head()"
      ]
    },
    {
      "cell_type": "markdown",
      "id": "JFzDUwn9Y-Ga",
      "metadata": {
        "id": "JFzDUwn9Y-Ga"
      },
      "source": [
        "\n",
        "\n",
        "df.replace() function:\n",
        "\n",
        "    This function is used to replace specific values within a DataFrame (df) with another value.\n",
        "    The parameters used are:\n",
        "        - to_replace=0.00: This specifies the value in the DataFrame that needs to be replaced, in this case, 0.00.\n",
        "        - value=df.mean(axis=0): This sets the replacement value for the matched condition. Here, df.mean(axis=0) calculates the mean for each column along the rows (axis=0) of the DataFrame df. The mean value for each column will replace the 0.00 values.\n",
        "        - inplace=True: This parameter ensures that the modification is done directly on the original DataFrame (df) without creating a new DataFrame. If inplace is set to True, the original DataFrame is modified.\n",
        "\n"
      ]
    },
    {
      "cell_type": "markdown",
      "id": "3bfef008",
      "metadata": {
        "id": "3bfef008"
      },
      "source": [
        "***Select two categories for binary classification***"
      ]
    },
    {
      "cell_type": "code",
      "execution_count": 8,
      "id": "57f10ca0",
      "metadata": {
        "id": "57f10ca0"
      },
      "outputs": [],
      "source": [
        "df_sel=df[(df.State==\"California\") | (df.State==\"Florida\")]"
      ]
    },
    {
      "cell_type": "code",
      "execution_count": 9,
      "id": "add6c146",
      "metadata": {
        "colab": {
          "base_uri": "https://localhost:8080/",
          "height": 206
        },
        "id": "add6c146",
        "outputId": "113d0a89-9c67-4941-b1d1-bdfa0d84cbd4"
      },
      "outputs": [
        {
          "data": {
            "text/html": [
              "<div>\n",
              "<style scoped>\n",
              "    .dataframe tbody tr th:only-of-type {\n",
              "        vertical-align: middle;\n",
              "    }\n",
              "\n",
              "    .dataframe tbody tr th {\n",
              "        vertical-align: top;\n",
              "    }\n",
              "\n",
              "    .dataframe thead th {\n",
              "        text-align: right;\n",
              "    }\n",
              "</style>\n",
              "<table border=\"1\" class=\"dataframe\">\n",
              "  <thead>\n",
              "    <tr style=\"text-align: right;\">\n",
              "      <th></th>\n",
              "      <th>R&amp;D Spend</th>\n",
              "      <th>Administration</th>\n",
              "      <th>Marketing Spend</th>\n",
              "      <th>State</th>\n",
              "      <th>Profit</th>\n",
              "    </tr>\n",
              "  </thead>\n",
              "  <tbody>\n",
              "    <tr>\n",
              "      <th>1</th>\n",
              "      <td>162597.70</td>\n",
              "      <td>151377.59</td>\n",
              "      <td>443898.53</td>\n",
              "      <td>California</td>\n",
              "      <td>191792.06</td>\n",
              "    </tr>\n",
              "    <tr>\n",
              "      <th>2</th>\n",
              "      <td>153441.51</td>\n",
              "      <td>101145.55</td>\n",
              "      <td>407934.54</td>\n",
              "      <td>Florida</td>\n",
              "      <td>191050.39</td>\n",
              "    </tr>\n",
              "    <tr>\n",
              "      <th>4</th>\n",
              "      <td>142107.34</td>\n",
              "      <td>91391.77</td>\n",
              "      <td>366168.42</td>\n",
              "      <td>Florida</td>\n",
              "      <td>166187.94</td>\n",
              "    </tr>\n",
              "    <tr>\n",
              "      <th>6</th>\n",
              "      <td>134615.46</td>\n",
              "      <td>147198.87</td>\n",
              "      <td>127716.82</td>\n",
              "      <td>California</td>\n",
              "      <td>156122.51</td>\n",
              "    </tr>\n",
              "    <tr>\n",
              "      <th>7</th>\n",
              "      <td>130298.13</td>\n",
              "      <td>145530.06</td>\n",
              "      <td>323876.68</td>\n",
              "      <td>Florida</td>\n",
              "      <td>155752.60</td>\n",
              "    </tr>\n",
              "  </tbody>\n",
              "</table>\n",
              "</div>"
            ],
            "text/plain": [
              "   R&D Spend  Administration  Marketing Spend       State     Profit\n",
              "1  162597.70       151377.59        443898.53  California  191792.06\n",
              "2  153441.51       101145.55        407934.54     Florida  191050.39\n",
              "4  142107.34        91391.77        366168.42     Florida  166187.94\n",
              "6  134615.46       147198.87        127716.82  California  156122.51\n",
              "7  130298.13       145530.06        323876.68     Florida  155752.60"
            ]
          },
          "execution_count": 9,
          "metadata": {},
          "output_type": "execute_result"
        }
      ],
      "source": [
        "df_sel.head() # column title and first rows of the dataset"
      ]
    },
    {
      "cell_type": "code",
      "execution_count": 10,
      "id": "32984bcc",
      "metadata": {
        "colab": {
          "base_uri": "https://localhost:8080/"
        },
        "id": "32984bcc",
        "outputId": "1e524054-f57f-4883-b200-fa153878534e"
      },
      "outputs": [
        {
          "data": {
            "text/plain": [
              "R&D Spend          float64\n",
              "Administration     float64\n",
              "Marketing Spend    float64\n",
              "State               object\n",
              "Profit             float64\n",
              "dtype: object"
            ]
          },
          "execution_count": 10,
          "metadata": {},
          "output_type": "execute_result"
        }
      ],
      "source": [
        "df_sel.dtypes # type of each column"
      ]
    },
    {
      "cell_type": "markdown",
      "id": "0784375e",
      "metadata": {
        "id": "0784375e"
      },
      "source": [
        "***Encode categorical data***\n",
        "\n",
        "One-hot encoding of categorical feature _State_\n",
        "One-Hot Encoding is a technique used in machine learning to handle categorical variables by transforming them into a format that can be easily utilized by algorithms.\n",
        "\n",
        "Imagine having a categorical variable, such as colors: red, green, and blue. With One-Hot Encoding, each color becomes a new binary column. If an observation has a specific color, the column corresponding to that color will be set to 1, while the other columns will be set to 0.\n",
        "\n",
        "For example:\n",
        "\n",
        "    If you have categories \"red\", \"green\", \"blue\", and you want to encode them using One-Hot Encoding:\n",
        "        \"red\" becomes [1, 0, 0]\n",
        "        \"green\" becomes [0, 1, 0]\n",
        "        \"blue\" becomes [0, 0, 1]\n",
        "\n",
        "This helps machine learning algorithms to understand and work with these categorical variables more effectively, as it doesn't impose an order or hierarchy among the categories but rather represents them in a form that the algorithm can interpret more efficiently."
      ]
    },
    {
      "cell_type": "code",
      "execution_count": 11,
      "id": "0a6b154f",
      "metadata": {
        "id": "0a6b154f"
      },
      "outputs": [],
      "source": [
        "df_one = pd.get_dummies(df_sel[\"State\"])"
      ]
    },
    {
      "cell_type": "code",
      "execution_count": 12,
      "id": "3f282229",
      "metadata": {
        "colab": {
          "base_uri": "https://localhost:8080/",
          "height": 206
        },
        "id": "3f282229",
        "outputId": "16e990be-0a73-4dae-b66e-a058043d4f68",
        "scrolled": true
      },
      "outputs": [
        {
          "data": {
            "text/html": [
              "<div>\n",
              "<style scoped>\n",
              "    .dataframe tbody tr th:only-of-type {\n",
              "        vertical-align: middle;\n",
              "    }\n",
              "\n",
              "    .dataframe tbody tr th {\n",
              "        vertical-align: top;\n",
              "    }\n",
              "\n",
              "    .dataframe thead th {\n",
              "        text-align: right;\n",
              "    }\n",
              "</style>\n",
              "<table border=\"1\" class=\"dataframe\">\n",
              "  <thead>\n",
              "    <tr style=\"text-align: right;\">\n",
              "      <th></th>\n",
              "      <th>California</th>\n",
              "      <th>Florida</th>\n",
              "    </tr>\n",
              "  </thead>\n",
              "  <tbody>\n",
              "    <tr>\n",
              "      <th>1</th>\n",
              "      <td>True</td>\n",
              "      <td>False</td>\n",
              "    </tr>\n",
              "    <tr>\n",
              "      <th>2</th>\n",
              "      <td>False</td>\n",
              "      <td>True</td>\n",
              "    </tr>\n",
              "    <tr>\n",
              "      <th>4</th>\n",
              "      <td>False</td>\n",
              "      <td>True</td>\n",
              "    </tr>\n",
              "    <tr>\n",
              "      <th>6</th>\n",
              "      <td>True</td>\n",
              "      <td>False</td>\n",
              "    </tr>\n",
              "    <tr>\n",
              "      <th>7</th>\n",
              "      <td>False</td>\n",
              "      <td>True</td>\n",
              "    </tr>\n",
              "  </tbody>\n",
              "</table>\n",
              "</div>"
            ],
            "text/plain": [
              "   California  Florida\n",
              "1        True    False\n",
              "2       False     True\n",
              "4       False     True\n",
              "6        True    False\n",
              "7       False     True"
            ]
          },
          "execution_count": 12,
          "metadata": {},
          "output_type": "execute_result"
        }
      ],
      "source": [
        "df_one.head()"
      ]
    },
    {
      "cell_type": "code",
      "execution_count": 13,
      "id": "MXdrBgtUZp1b",
      "metadata": {
        "colab": {
          "base_uri": "https://localhost:8080/",
          "height": 206
        },
        "id": "MXdrBgtUZp1b",
        "outputId": "17a4e06e-b807-41e8-de8c-c6a43dd24244"
      },
      "outputs": [
        {
          "data": {
            "text/html": [
              "<div>\n",
              "<style scoped>\n",
              "    .dataframe tbody tr th:only-of-type {\n",
              "        vertical-align: middle;\n",
              "    }\n",
              "\n",
              "    .dataframe tbody tr th {\n",
              "        vertical-align: top;\n",
              "    }\n",
              "\n",
              "    .dataframe thead th {\n",
              "        text-align: right;\n",
              "    }\n",
              "</style>\n",
              "<table border=\"1\" class=\"dataframe\">\n",
              "  <thead>\n",
              "    <tr style=\"text-align: right;\">\n",
              "      <th></th>\n",
              "      <th>State</th>\n",
              "      <th>R&amp;D Spend</th>\n",
              "      <th>Administration</th>\n",
              "      <th>Marketing Spend</th>\n",
              "      <th>Profit</th>\n",
              "    </tr>\n",
              "  </thead>\n",
              "  <tbody>\n",
              "    <tr>\n",
              "      <th>1</th>\n",
              "      <td>True</td>\n",
              "      <td>162597.70</td>\n",
              "      <td>151377.59</td>\n",
              "      <td>443898.53</td>\n",
              "      <td>191792.06</td>\n",
              "    </tr>\n",
              "    <tr>\n",
              "      <th>2</th>\n",
              "      <td>False</td>\n",
              "      <td>153441.51</td>\n",
              "      <td>101145.55</td>\n",
              "      <td>407934.54</td>\n",
              "      <td>191050.39</td>\n",
              "    </tr>\n",
              "    <tr>\n",
              "      <th>4</th>\n",
              "      <td>False</td>\n",
              "      <td>142107.34</td>\n",
              "      <td>91391.77</td>\n",
              "      <td>366168.42</td>\n",
              "      <td>166187.94</td>\n",
              "    </tr>\n",
              "    <tr>\n",
              "      <th>6</th>\n",
              "      <td>True</td>\n",
              "      <td>134615.46</td>\n",
              "      <td>147198.87</td>\n",
              "      <td>127716.82</td>\n",
              "      <td>156122.51</td>\n",
              "    </tr>\n",
              "    <tr>\n",
              "      <th>7</th>\n",
              "      <td>False</td>\n",
              "      <td>130298.13</td>\n",
              "      <td>145530.06</td>\n",
              "      <td>323876.68</td>\n",
              "      <td>155752.60</td>\n",
              "    </tr>\n",
              "  </tbody>\n",
              "</table>\n",
              "</div>"
            ],
            "text/plain": [
              "   State  R&D Spend  Administration  Marketing Spend     Profit\n",
              "1   True  162597.70       151377.59        443898.53  191792.06\n",
              "2  False  153441.51       101145.55        407934.54  191050.39\n",
              "4  False  142107.34        91391.77        366168.42  166187.94\n",
              "6   True  134615.46       147198.87        127716.82  156122.51\n",
              "7  False  130298.13       145530.06        323876.68  155752.60"
            ]
          },
          "execution_count": 13,
          "metadata": {},
          "output_type": "execute_result"
        }
      ],
      "source": [
        "# construct the final dataset that you will use for learning and prediction\n",
        "df_fin = pd.concat((df_one, df_sel), axis=1)\n",
        "df_fin = df_fin.drop([\"Florida\"], axis=1)\n",
        "df_fin = df_fin.drop([\"State\"], axis=1)\n",
        "# California is class 1, Florida is class 0\n",
        "df_fin = df_fin.rename(columns={\"California\": \"State\"})\n",
        "df_fin.head()"
      ]
    },
    {
      "cell_type": "code",
      "execution_count": 14,
      "id": "74e5d9d7",
      "metadata": {
        "colab": {
          "base_uri": "https://localhost:8080/",
          "height": 206
        },
        "id": "74e5d9d7",
        "outputId": "b260034a-e972-40f7-e26d-9246048dc25d"
      },
      "outputs": [
        {
          "data": {
            "text/html": [
              "<div>\n",
              "<style scoped>\n",
              "    .dataframe tbody tr th:only-of-type {\n",
              "        vertical-align: middle;\n",
              "    }\n",
              "\n",
              "    .dataframe tbody tr th {\n",
              "        vertical-align: top;\n",
              "    }\n",
              "\n",
              "    .dataframe thead th {\n",
              "        text-align: right;\n",
              "    }\n",
              "</style>\n",
              "<table border=\"1\" class=\"dataframe\">\n",
              "  <thead>\n",
              "    <tr style=\"text-align: right;\">\n",
              "      <th></th>\n",
              "      <th>State</th>\n",
              "      <th>R&amp;D Spend</th>\n",
              "      <th>Administration</th>\n",
              "      <th>Marketing Spend</th>\n",
              "      <th>Profit</th>\n",
              "    </tr>\n",
              "  </thead>\n",
              "  <tbody>\n",
              "    <tr>\n",
              "      <th>1</th>\n",
              "      <td>True</td>\n",
              "      <td>162597.70</td>\n",
              "      <td>151377.59</td>\n",
              "      <td>443898.53</td>\n",
              "      <td>191792.06</td>\n",
              "    </tr>\n",
              "    <tr>\n",
              "      <th>2</th>\n",
              "      <td>False</td>\n",
              "      <td>153441.51</td>\n",
              "      <td>101145.55</td>\n",
              "      <td>407934.54</td>\n",
              "      <td>191050.39</td>\n",
              "    </tr>\n",
              "    <tr>\n",
              "      <th>4</th>\n",
              "      <td>False</td>\n",
              "      <td>142107.34</td>\n",
              "      <td>91391.77</td>\n",
              "      <td>366168.42</td>\n",
              "      <td>166187.94</td>\n",
              "    </tr>\n",
              "    <tr>\n",
              "      <th>6</th>\n",
              "      <td>True</td>\n",
              "      <td>134615.46</td>\n",
              "      <td>147198.87</td>\n",
              "      <td>127716.82</td>\n",
              "      <td>156122.51</td>\n",
              "    </tr>\n",
              "    <tr>\n",
              "      <th>7</th>\n",
              "      <td>False</td>\n",
              "      <td>130298.13</td>\n",
              "      <td>145530.06</td>\n",
              "      <td>323876.68</td>\n",
              "      <td>155752.60</td>\n",
              "    </tr>\n",
              "  </tbody>\n",
              "</table>\n",
              "</div>"
            ],
            "text/plain": [
              "   State  R&D Spend  Administration  Marketing Spend     Profit\n",
              "1   True  162597.70       151377.59        443898.53  191792.06\n",
              "2  False  153441.51       101145.55        407934.54  191050.39\n",
              "4  False  142107.34        91391.77        366168.42  166187.94\n",
              "6   True  134615.46       147198.87        127716.82  156122.51\n",
              "7  False  130298.13       145530.06        323876.68  155752.60"
            ]
          },
          "execution_count": 14,
          "metadata": {},
          "output_type": "execute_result"
        }
      ],
      "source": [
        "# Constructing the final dataset for learning and prediction\n",
        "\n",
        "# Concatenating two DataFrames 'df_one' and 'df_sel' along columns (axis=1)\n",
        "df_fin = pd.concat((df_one, df_sel), axis=1)\n",
        "\n",
        "# Dropping the column \"Florida\" from the dataset as it was not selected for the final model\n",
        "df_fin = df_fin.drop([\"Florida\"], axis=1)\n",
        "\n",
        "# Dropping the column \"State\" (assumed to be the original 'State' column) as it is not required in its original form\n",
        "df_fin = df_fin.drop([\"State\"], axis=1)\n",
        "\n",
        "# Renaming the column \"California\" to \"State\" as part of preparing the dataset for classification (1 for California, 0 for Florida)\n",
        "df_fin = df_fin.rename(columns={\"California\": \"State\"})\n",
        "\n",
        "# Displaying the initial rows of the modified final dataset\n",
        "df_fin.head()\n"
      ]
    },
    {
      "cell_type": "markdown",
      "id": "ffced933",
      "metadata": {
        "id": "ffced933"
      },
      "source": [
        "***Normalize***\n",
        "\n",
        "Divide by the absolute value of the maximum so that features are in \\[0, 1\\]"
      ]
    },
    {
      "cell_type": "code",
      "execution_count": 15,
      "id": "31XhxsGKZ0t8",
      "metadata": {
        "id": "31XhxsGKZ0t8"
      },
      "outputs": [],
      "source": [
        "def absolute_maximum_scale(series):\n",
        "    \"\"\"\n",
        "    Scale each column in the DataFrame 'df_fin' by dividing the values by the absolute maximum value of that column.\n",
        "\n",
        "    Args:\n",
        "    series: A pandas Series or DataFrame column to be scaled.\n",
        "\n",
        "    Returns:\n",
        "    A scaled version of the input series with values ranging from -1 to 1 based on the maximum absolute value in the column.\n",
        "    \"\"\"\n",
        "    return series / series.abs().max()\n"
      ]
    },
    {
      "cell_type": "code",
      "execution_count": 16,
      "id": "1YB85OWZZ34L",
      "metadata": {
        "id": "1YB85OWZZ34L"
      },
      "outputs": [],
      "source": [
        "# Apply the 'absolute_maximum_scale' function to each column in the DataFrame 'df_fin'\n",
        "for col in df_fin.columns[1:]:\n",
        "    df_fin[col] = absolute_maximum_scale(df_fin[col])"
      ]
    },
    {
      "cell_type": "code",
      "execution_count": 17,
      "id": "421fc34c",
      "metadata": {
        "colab": {
          "base_uri": "https://localhost:8080/",
          "height": 206
        },
        "id": "421fc34c",
        "outputId": "34197a3b-ec25-4887-e948-b55ea7928295"
      },
      "outputs": [
        {
          "data": {
            "text/html": [
              "<div>\n",
              "<style scoped>\n",
              "    .dataframe tbody tr th:only-of-type {\n",
              "        vertical-align: middle;\n",
              "    }\n",
              "\n",
              "    .dataframe tbody tr th {\n",
              "        vertical-align: top;\n",
              "    }\n",
              "\n",
              "    .dataframe thead th {\n",
              "        text-align: right;\n",
              "    }\n",
              "</style>\n",
              "<table border=\"1\" class=\"dataframe\">\n",
              "  <thead>\n",
              "    <tr style=\"text-align: right;\">\n",
              "      <th></th>\n",
              "      <th>State</th>\n",
              "      <th>R&amp;D Spend</th>\n",
              "      <th>Administration</th>\n",
              "      <th>Marketing Spend</th>\n",
              "      <th>Profit</th>\n",
              "    </tr>\n",
              "  </thead>\n",
              "  <tbody>\n",
              "    <tr>\n",
              "      <th>1</th>\n",
              "      <td>True</td>\n",
              "      <td>1.000000</td>\n",
              "      <td>0.828805</td>\n",
              "      <td>1.000000</td>\n",
              "      <td>1.000000</td>\n",
              "    </tr>\n",
              "    <tr>\n",
              "      <th>2</th>\n",
              "      <td>False</td>\n",
              "      <td>0.943688</td>\n",
              "      <td>0.553781</td>\n",
              "      <td>0.918982</td>\n",
              "      <td>0.996133</td>\n",
              "    </tr>\n",
              "    <tr>\n",
              "      <th>4</th>\n",
              "      <td>False</td>\n",
              "      <td>0.873981</td>\n",
              "      <td>0.500378</td>\n",
              "      <td>0.824892</td>\n",
              "      <td>0.866501</td>\n",
              "    </tr>\n",
              "    <tr>\n",
              "      <th>6</th>\n",
              "      <td>True</td>\n",
              "      <td>0.827905</td>\n",
              "      <td>0.805926</td>\n",
              "      <td>0.287716</td>\n",
              "      <td>0.814020</td>\n",
              "    </tr>\n",
              "    <tr>\n",
              "      <th>7</th>\n",
              "      <td>False</td>\n",
              "      <td>0.801353</td>\n",
              "      <td>0.796789</td>\n",
              "      <td>0.729619</td>\n",
              "      <td>0.812091</td>\n",
              "    </tr>\n",
              "  </tbody>\n",
              "</table>\n",
              "</div>"
            ],
            "text/plain": [
              "   State  R&D Spend  Administration  Marketing Spend    Profit\n",
              "1   True   1.000000        0.828805         1.000000  1.000000\n",
              "2  False   0.943688        0.553781         0.918982  0.996133\n",
              "4  False   0.873981        0.500378         0.824892  0.866501\n",
              "6   True   0.827905        0.805926         0.287716  0.814020\n",
              "7  False   0.801353        0.796789         0.729619  0.812091"
            ]
          },
          "execution_count": 17,
          "metadata": {},
          "output_type": "execute_result"
        }
      ],
      "source": [
        "df_fin.head()"
      ]
    },
    {
      "cell_type": "markdown",
      "id": "563bfeca",
      "metadata": {
        "id": "563bfeca"
      },
      "source": [
        "***Classification***"
      ]
    },
    {
      "cell_type": "markdown",
      "id": "5e3406c4",
      "metadata": {
        "id": "5e3406c4"
      },
      "source": [
        "Prepare the dataset:"
      ]
    },
    {
      "cell_type": "code",
      "execution_count": 18,
      "id": "bc04f61d",
      "metadata": {
        "id": "bc04f61d"
      },
      "outputs": [],
      "source": [
        "y = df_fin[\"State\"] # ground truth labels\n",
        "X = df_fin.drop([\"State\"], axis=1) # datapoints features\n",
        "# extract actual values from series\n",
        "y = y.values\n",
        "X = X.values"
      ]
    },
    {
      "cell_type": "markdown",
      "id": "7b65051f",
      "metadata": {
        "id": "7b65051f"
      },
      "source": [
        "Train test split\n",
        "\n",
        "$75\\%$ of the data are in the training set, the remaining $25\\%$ constitutes the test set."
      ]
    },
    {
      "cell_type": "code",
      "execution_count": 19,
      "id": "f11e105c",
      "metadata": {
        "id": "f11e105c"
      },
      "outputs": [],
      "source": [
        "from sklearn.model_selection import train_test_split\n",
        "\n",
        "# Splitting the dataset into training and testing sets\n",
        "# X represents the features (independent variables), and y represents the target (dependent variable).\n",
        "\n",
        "# Using train_test_split function to create the training and testing sets\n",
        "# X_train and y_train: Training features and labels\n",
        "# X_test and y_test: Testing features and labels\n",
        "\n",
        "# The 'test_size=0.25' parameter sets the proportion of the dataset to include in the test split. Here, 25% of the data is allocated to the test set.\n",
        "# The 'random_state=0' parameter sets the random seed for reproducibility of the split.\n",
        "\n",
        "X_train, X_test, y_train, y_test = train_test_split(X, y, test_size=0.25, random_state=0)\n",
        "\n"
      ]
    },
    {
      "cell_type": "markdown",
      "id": "K9oGxl_KtLGb",
      "metadata": {
        "id": "K9oGxl_KtLGb"
      },
      "source": [
        "How many values there are in each class'?"
      ]
    },
    {
      "cell_type": "code",
      "execution_count": 20,
      "id": "yG-xHsRKktwE",
      "metadata": {
        "colab": {
          "base_uri": "https://localhost:8080/"
        },
        "id": "yG-xHsRKktwE",
        "outputId": "8d3556e2-b5a4-4af4-a194-829b587a3370"
      },
      "outputs": [
        {
          "name": "stdout",
          "output_type": "stream",
          "text": [
            "Number of samples for each class: \n",
            " - Class 0: 17 \n",
            " - Class 1: 16 \n"
          ]
        },
        {
          "name": "stderr",
          "output_type": "stream",
          "text": [
            "C:\\Users\\elico\\AppData\\Local\\Temp\\ipykernel_3912\\1722829975.py:4: FutureWarning: Series.__getitem__ treating keys as positions is deprecated. In a future version, integer keys will always be treated as labels (consistent with DataFrame behavior). To access a value by position, use `ser.iloc[pos]`\n",
            "  print(f\" - Class {i}: {val_counts[i]} \")\n"
          ]
        }
      ],
      "source": [
        "val_counts = df_fin['State'].value_counts()\n",
        "print(\"Number of samples for each class: \")\n",
        "for i in range(len(val_counts)):\n",
        "    print(f\" - Class {i}: {val_counts[i]} \")"
      ]
    },
    {
      "cell_type": "code",
      "execution_count": 21,
      "id": "CRDR5pkXk03Q",
      "metadata": {
        "colab": {
          "base_uri": "https://localhost:8080/",
          "height": 478
        },
        "id": "CRDR5pkXk03Q",
        "outputId": "258594f6-58b2-4afb-c3dc-8e0c0004f533"
      },
      "outputs": [
        {
          "data": {
            "image/png": "[encoded data removed]",
            "text/plain": [
              "<Figure size 1700x900 with 2 Axes>"
            ]
          },
          "metadata": {},
          "output_type": "display_data"
        }
      ],
      "source": [
        "fig, (ax1, ax2) = plt.subplots(1,2, sharex=True, sharey=True, figsize=(17, 9))\n",
        "\n",
        "# Trainig Set\n",
        "ax1.scatter(X_train[:,0], X_train[:,1], c=y_train, cmap='spring', s=70)\n",
        "ax1.set_title(\"Trainig Set\")\n",
        "plt.xlabel(\"R&D Spend\")\n",
        "plt.ylabel(\"Administration\")\n",
        "plt.title(\"Training Set\")\n",
        "\n",
        "# Test set\n",
        "ax2.scatter(X_test[:,0], X_test[:,1], c=y_test, cmap='spring', s=70)\n",
        "ax2.set_title(\"Test Set\")\n",
        "plt.xlabel(\"R&D Spend\")\n",
        "plt.ylabel(\"Administration\")\n",
        "plt.title(\"Test Set\")\n",
        "\n",
        "plt.show()"
      ]
    },
    {
      "cell_type": "markdown",
      "id": "5ee09c7e",
      "metadata": {
        "id": "5ee09c7e"
      },
      "source": [
        "### Train the Logistic Regression Model"
      ]
    },
    {
      "cell_type": "code",
      "execution_count": 24,
      "id": "592bb5af",
      "metadata": {
        "colab": {
          "base_uri": "https://localhost:8080/"
        },
        "id": "592bb5af",
        "outputId": "c0c16f0d-79cf-4ebd-d0aa-6cb94d9c825d"
      },
      "outputs": [
        {
          "data": {
            "text/plain": [
              "0.3333"
            ]
          },
          "execution_count": 24,
          "metadata": {},
          "output_type": "execute_result"
        }
      ],
      "source": [
        "from sklearn.linear_model import LogisticRegression\n",
        "# Creating a Logistic Regression model with specific parameters\n",
        "# - 'random_state=0' ensures reproducibility by setting the random seed.\n",
        "# - 'solver='lbfgs'' selects the optimization algorithm for the logistic regression.\n",
        "\n",
        "LR = LogisticRegression(random_state=0, solver='lbfgs').fit(X_train, y_train)\n",
        "\n",
        "# Predicting the target variable (y) using the Logistic Regression model on the test set (X_test).\n",
        "predictions = LR.predict(X_test)\n",
        "\n",
        "# Calculating and rounding the accuracy score of the Logistic Regression model on the test set.\n",
        "# The score is calculated by comparing the predicted values to the actual values (y_test).\n",
        "accuracy = round(LR.score(X_test, y_test), 4)\n",
        "accuracy\n"
      ]
    },
    {
      "cell_type": "markdown",
      "metadata": {},
      "source": [
        "### Plot results"
      ]
    },
    {
      "cell_type": "code",
      "execution_count": 25,
      "id": "7SHHkof5oIzY",
      "metadata": {
        "colab": {
          "base_uri": "https://localhost:8080/",
          "height": 456
        },
        "id": "7SHHkof5oIzY",
        "outputId": "694c3d54-3377-4df1-f5da-5c10e1b7b7da"
      },
      "outputs": [
        {
          "data": {
            "image/png": "[encoded data removed]",
            "text/plain": [
              "<Figure size 1600x800 with 2 Axes>"
            ]
          },
          "metadata": {},
          "output_type": "display_data"
        }
      ],
      "source": [
        "fig, (ax1, ax2) = plt.subplots(1,2, sharex=True, sharey=True, figsize=(16, 8))\n",
        "\n",
        "ax1.scatter(X_test[:,0], X_test[:,1], c=y_test, cmap='spring', s=70)\n",
        "ax1.set_title(\"Ground Truth\")\n",
        "plt.xlabel(\"R&D Spend\")\n",
        "plt.ylabel(\"Administration\")\n",
        "plt.title(\"TRUE VALUES\")\n",
        "for i, txt in enumerate(y_test):\n",
        "    ax1.annotate(txt, (X_test[:,0][i],X_test[:,1][i]))\n",
        "\n",
        "\n",
        "# Test set\n",
        "ax2.scatter(X_test[:,0], X_test[:,1], c=predictions, cmap='spring', s=70)\n",
        "plt.xlabel(\"R&D Spend\")\n",
        "plt.ylabel(\"Administration\")\n",
        "plt.title(\"PREDICTED VALUES\")\n",
        "for i, txt in enumerate(predictions):\n",
        "    ax2.annotate(txt, (X_test[:,0][i],X_test[:,1][i]))\n",
        "\n",
        "plt.show()"
      ]
    },
    {
      "cell_type": "markdown",
      "id": "0a2a78f4",
      "metadata": {
        "id": "0a2a78f4"
      },
      "source": [
        "***Add regularization***\n",
        "\n",
        "Regularization serves to prevent overfitting, ensuring that a model doesn't become too tailored to the training data and struggles to generalize to new data (test set). \n",
        "\n",
        "It is used when a model exhibits high variance, indicating sensitivity to training data fluctuations. \n",
        "The purpose is to find a balance between fitting the training data and maintaining simplicity by adding a penalty term to the model's complexity. \n",
        "\n",
        "Regularization can be categorized into two main types based on the degree of the penalty term: RIDGE regularization and LASSO regularization. "
      ]
    },
    {
      "cell_type": "code",
      "execution_count": 27,
      "id": "68a3e1fa",
      "metadata": {
        "id": "68a3e1fa"
      },
      "outputs": [],
      "source": [
        "import numpy.linalg as LA\n",
        "\n",
        "#LOSS function\n",
        "\n",
        "def sigmoidM(X, w):\n",
        "    \"\"\"\n",
        "    Parameters\n",
        "    ----------\n",
        "    X : array of dim n x d\n",
        "        Matrix containing the dataset\n",
        "    w : array of dim d\n",
        "        Vector representing the coefficients of the logistic model\n",
        "    \"\"\"\n",
        "    y = 1/(1+np.exp(-np.matmul(X,w)))\n",
        "    return y\n",
        "\n",
        "def LogisticLoss(X, y, w):\n",
        "    \"\"\"\n",
        "    Parameters\n",
        "    ----------\n",
        "    X : array of dim n x d\n",
        "        Matrix containing the dataset\n",
        "    y : array of dim n\n",
        "        Vector representing the ground truth label of each data point\n",
        "    w : array of dim d\n",
        "        Vector representing the coefficients of the logistic model\n",
        "    \"\"\"\n",
        "    points = np.shape(X)[0] # number of rows x\n",
        "\n",
        "    return -(1/points)*np.sum(y*np.log(sigmoidM(X,w)) + (1-y)*np.log(1-sigmoidM(X,w)))\n",
        "\n",
        "def OLSGradient(X,y,w, points):\n",
        "    return (2/points)*(np.transpose(X)@(sigmoidM(X,w)-y))\n"
      ]
    },
    {
      "cell_type": "markdown",
      "id": "YNsLANhr6I8L",
      "metadata": {
        "id": "YNsLANhr6I8L"
      },
      "source": [
        "### RIDGE REGRESSION\n",
        "\n",
        "The goal of Ridge Regression is to add a penalty term proportional to the sum of the squared weight. Adding this penalty term helps to constrain the values of the coefficients, preventing them from becoming too large. In this way, Ridge Regression favors solutions with smaller coefficients, reducing the impact of highly correlated variables.\n",
        "\n",
        "Ridge Regression is particularly useful when working with datasets where variables are highly correlated, thus improving the stability and performance of the linear model."
      ]
    },
    {
      "cell_type": "code",
      "execution_count": 28,
      "id": "qQ8oC-iZgHQr",
      "metadata": {
        "id": "qQ8oC-iZgHQr"
      },
      "outputs": [],
      "source": [
        "def RidgeSquareLoss(X, y, w, lam):\n",
        "    \"\"\"\n",
        "    Parameters\n",
        "    ----------\n",
        "    X : array of float dim n x d\n",
        "        Matrix containing the dataset\n",
        "    y : array of float of dim n\n",
        "        Vector containing the ground truth value of each data point\n",
        "    w : array of float of dim d\n",
        "        Weights of the fitted line1995\n",
        "    lam : float\n",
        "        Weight of the L2 penalty term\n",
        "      \"\"\"\n",
        "    points = np.shape(X)[0] # number of rows x\n",
        "    return LogisticLoss(X,y,w) + 1/points*lam*LA.norm(w,2)\n",
        "\n",
        "def RidgeGradient(w, lam):\n",
        "    return 2*lam*w\n",
        "\n",
        "def RidgeGradientDescent(X, y, iter, gamma, lam):\n",
        "    \"\"\"\n",
        "    Parameters\n",
        "    ----------\n",
        "    X : array of float dim n x d\n",
        "        Matrix containing the dataset\n",
        "    y : array of float of dim n\n",
        "        Vector containing the ground truth value of each data point\n",
        "    iter : int\n",
        "        Number of GD iterations\n",
        "    gamma : float\n",
        "        Learning rate\n",
        "    points : int\n",
        "        Number of points in our dataset\n",
        "    lam : float\n",
        "        Weight of the L2 penalty term\n",
        "    \"\"\"\n",
        "    d = np.shape(X)\n",
        "    L = np.zeros(iter)\n",
        "    w = np.random.uniform(0, 0.01, d[1])\n",
        "    W = np.zeros((d[1],iter))\n",
        "    for i in range(iter):\n",
        "        W[:,i] = w # Store the current weights in the W array\n",
        "        w = w - gamma * (OLSGradient(X,y,w,d[0]) + 1/d[0]*RidgeGradient(w, lam))\n",
        "        # Calculate and store the current loss value with Ridge regularization\n",
        "        L[i] = RidgeSquareLoss(X,y,w,lam)\n",
        "    return W, L\n"
      ]
    },
    {
      "cell_type": "code",
      "execution_count": 29,
      "id": "c4n82sWN1Ggl",
      "metadata": {
        "colab": {
          "base_uri": "https://localhost:8080/"
        },
        "id": "c4n82sWN1Ggl",
        "outputId": "37b1c902-8bdb-4964-b179-421e5b545f3e"
      },
      "outputs": [
        {
          "name": "stdout",
          "output_type": "stream",
          "text": [
            "L2 Norm of the Difference Between LR Weigths and LR_Ridge Weights:  2.393110437024413\n"
          ]
        }
      ],
      "source": [
        "iter = 2000\n",
        "gamma = 0.1\n",
        "lam = 0.1\n",
        "w = LR.coef_\n",
        "\n",
        "wgd_Ridge, Loss_Ridge = RidgeGradientDescent(X_train, y_train, iter, gamma, lam)\n",
        "# obtain final coeficients from the last row of the array wdg_Ridge\n",
        "wpred_Ridge = wgd_Ridge[:,-1]\n",
        "# oobtain labes\n",
        "y_pred_Ridge = sigmoidM(X_test, wpred_Ridge)\n",
        "y_pred_Ridge = np.where(y_pred_Ridge>0.5,1,0)\n",
        "print('L2 Norm of the Difference Between LR Weigths and LR_Ridge Weights: ',LA.norm(w-wpred_Ridge,2))"
      ]
    },
    {
      "cell_type": "code",
      "execution_count": 30,
      "id": "hd_3Y-RI9TxC",
      "metadata": {
        "colab": {
          "base_uri": "https://localhost:8080/",
          "height": 472
        },
        "id": "hd_3Y-RI9TxC",
        "outputId": "c795cbc1-1738-4fab-81fe-1477a07f9d7d"
      },
      "outputs": [
        {
          "data": {
            "image/png": "[encoded data removed]",
            "text/plain": [
              "<Figure size 640x480 with 1 Axes>"
            ]
          },
          "metadata": {},
          "output_type": "display_data"
        }
      ],
      "source": [
        "# plot\n",
        "plt.plot(Loss_Ridge, color = \"saddlebrown\")\n",
        "plt.title('Loss Ridge')\n",
        "plt.xlabel('Iter')\n",
        "plt.ylabel('Loss')\n",
        "plt.show()"
      ]
    },
    {
      "cell_type": "markdown",
      "metadata": {},
      "source": [
        "The graph illustrates the loss evolution during the Ridge Regression gradient descent optimization process. As the algorithm iterates, the loss gradually decreases, demonstrating the convergence of the Ridge Regression model.\n",
        "\n",
        "The decreasing trend in the loss curve indicates successful optimization, with the algorithm finding optimal weights that strike a balance between fitting the data and minimizing the regularization penalty. "
      ]
    },
    {
      "cell_type": "markdown",
      "id": "bENL9Kps52w1",
      "metadata": {
        "id": "bENL9Kps52w1"
      },
      "source": [
        "### LASSO REGULARIZATION\n",
        "\n",
        "Lasso regression incorporates L1 regularization to prevent overfitting. In lasso regression, the standard linear regression objective function is augmented with a penalty term proportional to the sum of the absolute values of the weights. This encourages some coefficients to be exactly zero, promoting sparsity in the model. \n",
        "\n",
        "Lasso regression is particularly valuable when dealing with datasets containing many features, as it helps select a subset of the most relevant features while shrinking others."
      ]
    },
    {
      "cell_type": "code",
      "execution_count": 32,
      "id": "ZvXfAAsP15OY",
      "metadata": {
        "id": "ZvXfAAsP15OY"
      },
      "outputs": [],
      "source": [
        "def LassoSquareLoss(X, y, w, lam):\n",
        "    \"\"\"\n",
        "    Parameters\n",
        "    ----------\n",
        "    X : array of float dim n x d\n",
        "        Matrix containing the dataset\n",
        "    y : array of float of dim n\n",
        "        Vector containing the ground truth value of each data point\n",
        "    w : array of float of dim d\n",
        "        Weights of the fitted line\n",
        "    lam : float\n",
        "        Weight of the L1 penalty term\n",
        "    \"\"\"\n",
        "    points = np.shape(X)[0] # number of rows x\n",
        "    # Loss function\n",
        "    return LogisticLoss(X,y,w) + 1/points*lam*LA.norm(w,1)\n",
        "\n",
        "def L1_subgradient(z):\n",
        "    \"\"\"\n",
        "    Compute the subgradient of the absolute value function element-wise.\n",
        "\n",
        "    Parameters:\n",
        "    ----------\n",
        "    z : array-like\n",
        "        Input array for which the subgradient is calculated.\n",
        "\n",
        "    Returns:\n",
        "    ----------\n",
        "    g : array-like\n",
        "        Subgradient of the absolute value function applied element-wise to `z`.\n",
        "    \"\"\"\n",
        "    # Create an array g of the same shape as z, initialized with all 1s.\n",
        "    g = np.ones(z.shape)\n",
        "    # Check each element of z.\n",
        "    for i in range(z.shape[0]):\n",
        "        # If the element is negative, set the corresponding element in g to -1.\n",
        "        if z[i] < 0.:\n",
        "            g[i] = -1.0\n",
        "\n",
        "    # Return the resulting array g, representing the subgradient.\n",
        "    return g\n",
        "\n",
        "def LassoGradient(w, lam):\n",
        "    return lam * L1_subgradient(w)\n",
        "\n",
        "def GDLasso(X, y, iter, gamma,lam):\n",
        "    \"\"\"\n",
        "    Parameters\n",
        "    ----------\n",
        "    X : array of float dim n x d\n",
        "        Matrix containing the dataset\n",
        "    y : array of float of dim n\n",
        "        Vector containing the ground truth value of each data point\n",
        "    iter : int\n",
        "        Number of GD iterations\n",
        "    gamma : float\n",
        "        Learning rate\n",
        "    points : int\n",
        "        Number of points in our dataset\n",
        "    d : int\n",
        "        Dimensionality of each data point in the dataset\n",
        "    lam : float\n",
        "        Weight of the L2 penalty term\n",
        "     Returns:\n",
        "    ----------\n",
        "    W : array-like, shape (d, iter)\n",
        "        Matrix to store weights at each iteration.\n",
        "    L : array-like, shape (iter,)\n",
        "        Array to store loss values at each iteration.\n",
        "    \"\"\"\n",
        "\n",
        "    d = np.shape(X)\n",
        "    L = np.zeros(iter)\n",
        "    # Initialize weights with random values.\n",
        "    w = np.random.uniform(0, 0.01, d[1])\n",
        "    W = np.zeros((d[1],iter))\n",
        "    # Perform gradient descent iterations.\n",
        "    for i in range(iter):\n",
        "        # Store the current weight vector in the W matrix.\n",
        "        W[:,i] = w\n",
        "        # Update the weight vector using the gradient of Lasso (L1-regularized) loss.\n",
        "        w = w - gamma * (OLSGradient(X,y,w,d[0]) + 1/d[0]*LassoGradient(w, lam))\n",
        "        # Calculate and store the loss value for this iteration.\n",
        "        L[i] = LassoSquareLoss(X,y,w,lam)\n",
        "    # Return the matrix of weight vectors and the array of loss values.\n",
        "    return W, L"
      ]
    },
    {
      "cell_type": "code",
      "execution_count": 33,
      "id": "z7Dbh5NU17Na",
      "metadata": {
        "colab": {
          "base_uri": "https://localhost:8080/"
        },
        "id": "z7Dbh5NU17Na",
        "outputId": "a821be50-1c70-4e6d-b5b3-412c65f0cfa4"
      },
      "outputs": [
        {
          "name": "stdout",
          "output_type": "stream",
          "text": [
            "L2 Norm of the Difference Between LR Weigths and LR_Lasso Weights:  4.4327238528958075\n"
          ]
        }
      ],
      "source": [
        "iter = 3000\n",
        "gamma = 0.1\n",
        "lam = 0.1\n",
        "w = LR.coef_\n",
        "\n",
        "wgd_Lasso, Loss_Lasso = GDLasso(X_train, y_train, iter, gamma, lam)\n",
        "# obtain final coeficients from the last row of array wdg_Ridge\n",
        "wpred_Lasso= wgd_Lasso[:,-1]\n",
        "y_pred_Lasso = sigmoidM(X_test, wpred_Lasso)\n",
        "y_pred_Lasso = np.where(y_pred_Lasso>0.5,1,0)\n",
        "print('L2 Norm of the Difference Between LR Weigths and LR_Lasso Weights: ',\n",
        "      LA.norm(w-wpred_Lasso,2))\n"
      ]
    },
    {
      "cell_type": "code",
      "execution_count": 34,
      "id": "jTwC0VRzCvBg",
      "metadata": {
        "colab": {
          "base_uri": "https://localhost:8080/",
          "height": 472
        },
        "id": "jTwC0VRzCvBg",
        "outputId": "1b1d50a7-c9fd-4c12-8cab-94dccc970bbd"
      },
      "outputs": [
        {
          "data": {
            "image/png": "[encoded data removed]",
            "text/plain": [
              "<Figure size 640x480 with 1 Axes>"
            ]
          },
          "metadata": {},
          "output_type": "display_data"
        }
      ],
      "source": [
        "# plot\n",
        "plt.plot(Loss_Lasso, color = \"saddlebrown\")\n",
        "plt.title('Loss Lasso')\n",
        "plt.xlabel('Iter')\n",
        "plt.ylabel('Loss')\n",
        "plt.show()\n"
      ]
    },
    {
      "cell_type": "markdown",
      "metadata": {},
      "source": [
        "The graph illustrates the loss evolution during the Lasso Regression gradient descent optimization process."
      ]
    },
    {
      "cell_type": "markdown",
      "id": "7a05776d",
      "metadata": {
        "id": "7a05776d"
      },
      "source": [
        "### Model assessment\n",
        "\n",
        "Given true and predicted values, compute the most common classification metrics to assess the quality of your predictions."
      ]
    },
    {
      "cell_type": "code",
      "execution_count": 35,
      "id": "b3a864f9",
      "metadata": {
        "colab": {
          "base_uri": "https://localhost:8080/"
        },
        "id": "b3a864f9",
        "outputId": "6bc3a49b-ee65-4715-f149-4b7084355893"
      },
      "outputs": [
        {
          "name": "stdout",
          "output_type": "stream",
          "text": [
            "              precision    recall  f1-score   support\n",
            "\n",
            "  California       0.33      1.00      0.50         3\n",
            "     Florida       0.00      0.00      0.00         6\n",
            "\n",
            "    accuracy                           0.33         9\n",
            "   macro avg       0.17      0.50      0.25         9\n",
            "weighted avg       0.11      0.33      0.17         9\n",
            "\n"
          ]
        },
        {
          "name": "stderr",
          "output_type": "stream",
          "text": [
            "C:\\Users\\elico\\AppData\\Local\\Packages\\PythonSoftwareFoundation.Python.3.10_qbz5n2kfra8p0\\LocalCache\\local-packages\\Python310\\site-packages\\sklearn\\metrics\\_classification.py:1531: UndefinedMetricWarning: Precision is ill-defined and being set to 0.0 in labels with no predicted samples. Use `zero_division` parameter to control this behavior.\n",
            "  _warn_prf(average, modifier, f\"{metric.capitalize()} is\", len(result))\n",
            "C:\\Users\\elico\\AppData\\Local\\Packages\\PythonSoftwareFoundation.Python.3.10_qbz5n2kfra8p0\\LocalCache\\local-packages\\Python310\\site-packages\\sklearn\\metrics\\_classification.py:1531: UndefinedMetricWarning: Precision is ill-defined and being set to 0.0 in labels with no predicted samples. Use `zero_division` parameter to control this behavior.\n",
            "  _warn_prf(average, modifier, f\"{metric.capitalize()} is\", len(result))\n",
            "C:\\Users\\elico\\AppData\\Local\\Packages\\PythonSoftwareFoundation.Python.3.10_qbz5n2kfra8p0\\LocalCache\\local-packages\\Python310\\site-packages\\sklearn\\metrics\\_classification.py:1531: UndefinedMetricWarning: Precision is ill-defined and being set to 0.0 in labels with no predicted samples. Use `zero_division` parameter to control this behavior.\n",
            "  _warn_prf(average, modifier, f\"{metric.capitalize()} is\", len(result))\n"
          ]
        }
      ],
      "source": [
        "from sklearn.metrics import classification_report\n",
        "y_true = y_test\n",
        "y_pred = LR.predict(X_test)\n",
        "\n",
        "target_names = ['California', 'Florida']\n",
        "print(classification_report(y_true, y_pred, target_names=target_names))"
      ]
    },
    {
      "cell_type": "markdown",
      "id": "q8gI_LEMJsB-",
      "metadata": {
        "id": "q8gI_LEMJsB-"
      },
      "source": [
        "Repeat the previous task for regularized logistic regression and compare the results."
      ]
    },
    {
      "cell_type": "code",
      "execution_count": 36,
      "id": "AWSiwxDUJrZz",
      "metadata": {
        "colab": {
          "base_uri": "https://localhost:8080/"
        },
        "id": "AWSiwxDUJrZz",
        "outputId": "a4ec748b-cfa5-43d7-d886-eeac5ec55031"
      },
      "outputs": [
        {
          "name": "stdout",
          "output_type": "stream",
          "text": [
            "Ridge\n",
            "              precision    recall  f1-score   support\n",
            "\n",
            "  California       0.20      0.33      0.25         3\n",
            "     Florida       0.50      0.33      0.40         6\n",
            "\n",
            "    accuracy                           0.33         9\n",
            "   macro avg       0.35      0.33      0.33         9\n",
            "weighted avg       0.40      0.33      0.35         9\n",
            "\n",
            "Lasso\n",
            "              precision    recall  f1-score   support\n",
            "\n",
            "  California       0.20      0.33      0.25         3\n",
            "     Florida       0.50      0.33      0.40         6\n",
            "\n",
            "    accuracy                           0.33         9\n",
            "   macro avg       0.35      0.33      0.33         9\n",
            "weighted avg       0.40      0.33      0.35         9\n",
            "\n"
          ]
        }
      ],
      "source": [
        "target_names = ['California', 'Florida']\n",
        "print(\"Ridge\")\n",
        "print(classification_report(y_test, y_pred_Ridge, target_names=target_names))\n",
        "print(\"Lasso\")\n",
        "print(classification_report(y_test, y_pred_Lasso, target_names=target_names))\n"
      ]
    },
    {
      "cell_type": "markdown",
      "metadata": {},
      "source": [
        "The tables show classification reports for three models: a baseline and two regularized models (Ridge and Lasso). In each classification report, metrics such as precision (accuracy of positive predictions), recall (capture of actual positives), and F1-score (harmonic mean of precision and recall) are provided for each class (California and Florida). Support indicates the number of actual instances for each class. The accuracy represents overall correct predictions.\n",
        "\n",
        "Comparing the models, Ridge and Lasso exhibit higher precision, recall, and F1-score for both classes compared to the baseline. This suggests improved performance in correctly classifying instances. The macro and weighted averages reinforce these findings. The regularized models, particularly Ridge and Lasso, outperform the baseline, highlighting their effectiveness in classification tasks.\n"
      ]
    },
    {
      "cell_type": "markdown",
      "id": "d208a7b9",
      "metadata": {
        "id": "d208a7b9"
      },
      "source": [
        "### ROC (Receiver Operating Characteristic)\n",
        "\n",
        "\n",
        "Given true and predicted values, plot the ROC curve using your implemented function.\n",
        "\n",
        "The ROC curve is a visual tool for **evaluating the performance** of a binary classification model. It illustrates how well the model distinguishes between true positive and false positive rates across different decision thresholds. "
      ]
    },
    {
      "cell_type": "code",
      "execution_count": 37,
      "id": "N30JQ6n8ESwV",
      "metadata": {
        "colab": {
          "base_uri": "https://localhost:8080/",
          "height": 484
        },
        "id": "N30JQ6n8ESwV",
        "outputId": "fd631547-cba5-493e-cbc6-4f9b4bda45e7"
      },
      "outputs": [
        {
          "name": "stderr",
          "output_type": "stream",
          "text": [
            "C:\\Users\\elico\\AppData\\Local\\Temp\\ipykernel_3912\\4020843341.py:46: UserWarning: color is redundantly defined by the 'color' keyword argument and the fmt string \"r--\" (-> color='r'). The keyword argument will take precedence.\n",
            "  plt.plot([0, 1], [0, 1], 'r--', color = 'lightblue', lw=3)\n"
          ]
        },
        {
          "data": {
            "image/png": "[encoded data removed]",
            "text/plain": [
              "<Figure size 1500x700 with 1 Axes>"
            ]
          },
          "metadata": {},
          "output_type": "display_data"
        }
      ],
      "source": [
        "#Computes the True Positive Rate and False Positive Rate\n",
        "\n",
        "def find_metrics(y_true, y_pred_prob, threshold):\n",
        "    tp = 0\n",
        "    fp = 0\n",
        "    tn = 0\n",
        "    fn = 0\n",
        "\n",
        "    for true_label, pred_prob in zip(y_true, y_pred_prob):\n",
        "        predicted_label = 1 if pred_prob >= threshold else 0\n",
        "\n",
        "        if true_label == 1:\n",
        "            if predicted_label == 1:\n",
        "                tp += 1\n",
        "            else:\n",
        "                fn += 1\n",
        "        else:\n",
        "            if predicted_label == 0:\n",
        "                tn += 1\n",
        "            else:\n",
        "                fp += 1\n",
        "\n",
        "    tpr = tp / (tp + fn) if (tp + fn) > 0 else 0\n",
        "    fpr = fp / (tn + fp) if (tn + fp) > 0 else 0\n",
        "\n",
        "    return [fpr, tpr]\n",
        "\n",
        "def create_roc(y_true, y_pred_prob, thresholds):\n",
        "    roc = np.array([])\n",
        "    for threshold in thresholds:\n",
        "        fpr, tpr = find_metrics(y_true, y_pred_prob, threshold)\n",
        "        roc = np.append(roc, [fpr, tpr])\n",
        "\n",
        "    roc = roc.reshape(-1, 2)\n",
        "    roc = roc[roc[:,0].argsort()]  # Sort by FPR for correct plotting order\n",
        "    return roc\n",
        "\n",
        "# Example usage\n",
        "thresholds = [0, 0.05, 0.1, 0.15, 0.2, 0.25, 0.3, 0.35, 0.4, 0.45, 0.5, 0.55, 0.6, 0.65, 0.7, 0.75, 0.8, 0.85, 0.9, 0.95, 1]\n",
        "y_pred_prob = LR.predict_proba(X_test)[:, 1]\n",
        "ROC = create_roc(y_test, y_pred_prob, thresholds)\n",
        "\n",
        "# Plot ROC Curve\n",
        "plt.figure(figsize=(15, 7))\n",
        "plt.plot(ROC[:, 0], ROC[:, 1], color='green', lw=2)\n",
        "plt.plot([0, 1], [0, 1], 'r--', color = 'lightblue', lw=3)\n",
        "plt.xlim([0.0, 1.0])\n",
        "plt.ylim([0.0, 1.05])\n",
        "plt.title('Receiver Operating Characteristic Curve', fontsize=18)\n",
        "plt.xlabel('False Positive Rate', fontsize=16)\n",
        "plt.ylabel('True Positive Rate', fontsize=16)\n",
        "plt.show()\n"
      ]
    },
    {
      "cell_type": "code",
      "execution_count": 38,
      "id": "fan29Bz-n6qX",
      "metadata": {
        "colab": {
          "base_uri": "https://localhost:8080/",
          "height": 484
        },
        "id": "fan29Bz-n6qX",
        "outputId": "81829b36-bbbd-4b8b-8e7b-1c5af00bedc9"
      },
      "outputs": [
        {
          "name": "stderr",
          "output_type": "stream",
          "text": [
            "C:\\Users\\elico\\AppData\\Local\\Temp\\ipykernel_3912\\4179486292.py:8: UserWarning: color is redundantly defined by the 'color' keyword argument and the fmt string \"r--\" (-> color='r'). The keyword argument will take precedence.\n",
            "  plt.plot([0, 1], [0, 1],'r--', color='lightblue')\n"
          ]
        },
        {
          "data": {
            "image/png": "[encoded data removed]",
            "text/plain": [
              "<Figure size 1500x700 with 1 Axes>"
            ]
          },
          "metadata": {},
          "output_type": "display_data"
        }
      ],
      "source": [
        "from sklearn.metrics import roc_auc_score\n",
        "from sklearn.metrics import roc_curve\n",
        "\n",
        "logit_roc_auc = roc_auc_score(y_test, y_pred_prob)\n",
        "fpr_sklearn, tpr_sklearn, thresholds = roc_curve(y_test, y_pred_prob)\n",
        "plt.figure(figsize=(15,7))\n",
        "plt.plot(fpr_sklearn, tpr_sklearn,color='green', label='Logistic Regression (area = %0.2f)' % logit_roc_auc)\n",
        "plt.plot([0, 1], [0, 1],'r--', color='lightblue')\n",
        "plt.xlim([0.0, 1.0])\n",
        "plt.ylim([0.0, 1.05])\n",
        "plt.xlabel('False Positive Rate',fontsize=16)\n",
        "plt.ylabel('True Positive Rate', fontsize=16)\n",
        "plt.title('ROC with SKLEARN', fontsize=18)\n",
        "plt.legend(loc=\"lower right\")\n",
        "plt.show()"
      ]
    },
    {
      "cell_type": "markdown",
      "metadata": {},
      "source": [
        "The primary difference lies in the implementation approach: the first function manually calculates metrics, and the other utilizes the sklearn library. Both methods result in ROC curves, but the sklearn approach provides additional metrics like AUC-ROC directly.\n",
        "\n",
        "A higher curve and greater area under it signify better model performance, with an AUC-ROC value close to 1 indicating superior accuracy. The curve helps assess the trade-off between correctly identifying positive instances and incorrectly labeling negative instances, offering insights into the model's overall effectiveness."
      ]
    }
  ],
  "metadata": {
    "colab": {
      "provenance": []
    },
    "kernelspec": {
      "display_name": "Python 3",
      "language": "python",
      "name": "python3"
    },
    "language_info": {
      "codemirror_mode": {
        "name": "ipython",
        "version": 3
      },
      "file_extension": ".py",
      "mimetype": "text/x-python",
      "name": "python",
      "nbconvert_exporter": "python",
      "pygments_lexer": "ipython3",
      "version": "3.10.11"
    }
  },
  "nbformat": 4,
  "nbformat_minor": 5
}
